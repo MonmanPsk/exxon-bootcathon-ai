{
  "cells": [
    {
      "attachments": {},
      "cell_type": "markdown",
      "metadata": {},
      "source": [
        "# **Challenge 3: Retrieve search output and interact with Azure OpenAI**\n",
        "\n",
        "### Azure AI Search Method\n",
        "\n",
        "Azure AI Search service enhances search capabilities by offering various methods such as pure vector search, hybrid search, and semantic hybrid search.\n",
        "\n",
        "- **Pure Vector Search:** Utilizes vector representations of documents to perform searches based on semantic similarity. This method is ideal for applications requiring high precision in finding relevant passages or documents through semantic matching.\n",
        "    - Use case: Matching image content with text content, cross-lingual searches, or finding similar documents.\n",
        "- **Hybrid Search**: Combines traditional keyword search with vector search, applying a fusion step to select the best results from each technique. It’s particularly effective for general search use cases where both relevance and keyword matching are important.\n",
        "    - Use case: Retrieval-augmented generation applications, where both the retrieval of relevant documents and the ranking based on semantic relevance are key.\n",
        "- **Semantic Hybrid Search**: Integrates semantic ranking with hybrid search to further refine the relevance of search results. This approach is most beneficial for Generative AI scenarios, where precise retrieval of information is crucial for generating accurate responses.\n",
        "    - Use case: Enhancing chat-style and copilot applications by ensuring the top search results are the most semantically relevant to the query.\n",
        "\n",
        "## Let start the challenge"
      ]
    },
    {
      "cell_type": "code",
      "execution_count": 15,
      "metadata": {
        "gather": {
          "logged": 1716804388482
        }
      },
      "outputs": [],
      "source": [
        "# Import required libraries  \n",
        "import os\n",
        "import textwrap\n",
        "from openai import AzureOpenAI, DefaultHttpxClient\n",
        "from dotenv import load_dotenv, find_dotenv\n",
        "from azure.core.credentials import AzureKeyCredential  \n",
        "from azure.search.documents import SearchClient  \n",
        "from azure.search.documents.models import Vector"
      ]
    },
    {
      "cell_type": "code",
      "execution_count": 16,
      "metadata": {
        "gather": {
          "logged": 1716804390784
        }
      },
      "outputs": [],
      "source": [
        "# Configure environment variables  \n",
        "load_dotenv(find_dotenv('credential.env'), override=True)\n",
        "\n",
        "# Azure AI Search\n",
        "service_endpoint = os.environ['AZURE_AI_SEARCH_ENDPOINT']\n",
        "key = os.environ['AZURE_AI_SEARCH_KEY']\n",
        "index_name = os.environ['AZURE_AI_SEARCH_INDEX_NAME']\n",
        "credential = AzureKeyCredential(key)\n",
        "\n",
        "#Azure OpenAI\n",
        "client = AzureOpenAI(\n",
        "  api_key = os.environ['AZURE_OPENAI_API_KEY'],  # this is also the default, it can be omitted\n",
        "  azure_endpoint = os.environ['AZURE_OPENAI_API_ENDPOINT'],\n",
        "  api_version = os.environ['AZURE_OPENAI_API_VERSION'],\n",
        "  http_client=DefaultHttpxClient(verify=False)\n",
        ")\n",
        "embedding_model = os.environ['EMBEDDING_MODEL_NAME']\n",
        "gpt35turbo_model = os.environ['GPT35TURBO_MODEL_NAME']\n",
        "gpt4turbo_model = os.environ['GPT4TURBO_MODEL_NAME']\n",
        "gpt4o_model = os.environ['GPT4O_MODEL_NAME']"
      ]
    },
    {
      "cell_type": "code",
      "execution_count": 17,
      "metadata": {},
      "outputs": [],
      "source": [
        "# Declare useful method\n",
        "def check_and_create_folder(folder_name):\n",
        "    if not os.path.exists(folder_name):\n",
        "        os.makedirs(folder_name)\n",
        "        print(f\"The folder '{folder_name}' has been created.\")\n",
        "    else:\n",
        "        print(f\"The folder '{folder_name}' already exists.\")\n",
        "\n",
        "def print_error_message(message, prefix_message='Error: '):\n",
        "    print(f\"\\033[1;31m{prefix_message}\\033[0m{message}\")\n",
        "\n",
        "def print_warning_message(message, prefix_message='Warning: '):\n",
        "    print(f\"\\033[1;33m{prefix_message}\\033[0m{message}\")\n",
        "    \n",
        "def print_success_message(message, prefix_message='Success: '):\n",
        "    print(f\"\\033[1;32m{prefix_message}\\033[0m{message}\")"
      ]
    },
    {
      "cell_type": "code",
      "execution_count": 18,
      "metadata": {
        "gather": {
          "logged": 1716807286020
        },
        "jupyter": {
          "outputs_hidden": false,
          "source_hidden": false
        },
        "nteract": {
          "transient": {
            "deleting": false
          }
        }
      },
      "outputs": [],
      "source": [
        "def generate_embeddings(text):\n",
        "    response = client.embeddings.create(input=text, model=embedding_model)\n",
        "    return response.data[0].embedding\n",
        "\n",
        "\n",
        "def get_chat_completion(messages, model):\n",
        "    print(f'Generating answer using {model} LLM model')\n",
        "    response = client.chat.completions.create(\n",
        "        model=model,\n",
        "        messages=messages\n",
        "    )\n",
        "    return response.choices[0].message.content\n",
        "\n",
        "def format_retrieved_documents(data_list):\n",
        "    retrieved_documents = \"\"\n",
        "    for item in data_list:\n",
        "        # Extract the 'content' and 'sourcepage' values\n",
        "        content = item.get('content', '')\n",
        "        sourcepage = item.get('sourcepage', '')\n",
        "        retrieved_documents += \"sourcepage: \" + sourcepage + \", content: \" + content + \"\\n\"\n",
        "    return retrieved_documents"
      ]
    },
    {
      "attachments": {},
      "cell_type": "markdown",
      "metadata": {},
      "source": [
        "## Perform a vector similarity search"
      ]
    },
    {
      "cell_type": "code",
      "execution_count": 19,
      "metadata": {
        "gather": {
          "logged": 1716782821322
        },
        "jupyter": {
          "outputs_hidden": false,
          "source_hidden": false
        },
        "nteract": {
          "transient": {
            "deleting": false
          }
        }
      },
      "outputs": [
        {
          "name": "stdout",
          "output_type": "stream",
          "text": [
            "\u001b[1;33mSource Page: \u001b[0mResearch and policy note on GenAI for customs-1.pdf\n",
            "\u001b[1;33mSearch Score: \u001b[0m0.88402885\n",
            "\u001b[1;33mContent: \u001b[0mThe note is segmented into three main sections: - A succinct overview of the technological...\n",
            "\n",
            "\u001b[1;33mSource Page: \u001b[0mResearch and policy note on GenAI for customs-0.pdf\n",
            "\u001b[1;33mSearch Score: \u001b[0m0.8687809\n",
            "\u001b[1;33mContent: \u001b[0mOwing to its capacity to generate text, images, video, and audio in response to natural language...\n",
            "\n",
            "\u001b[1;33mSource Page: \u001b[0mResearch and policy note on GenAI for customs-1.pdf\n",
            "\u001b[1;33mSearch Score: \u001b[0m0.8641819\n",
            "\u001b[1;33mContent: \u001b[0mGenAl has no notion of the intrinsic \"meaning\" of what it produces, it operates on language...\n",
            "\n",
            "\u001b[1;32m-----AI Search JSON Output [Pure Vector Search]-----\u001b[0m\n"
          ]
        },
        {
          "data": {
            "text/plain": [
              "[{'content': '\\nThe note is segmented into three main sections:\\n- A succinct overview of the technological principles of GenAI and its limitations that affect its uses in Customs administrations.\\n- An exploration of the potential applications of GenAI within Customs, identifying both existing uses that can be borrowed from other sectors and potential near- future applications, subject to technological progression.\\n- A discussion on three strategic aspects for Customs related to GenAI integration: evolving dynamics of human-machine interaction owing to natural language usage, essential training modules for officials to maximize GenAI benefits while mitigating inherent risks, and the critical task of establishing a sovereign training corpus fitting with Customs needs.\\n1. GenAI at a glance\\nGenAI is recognized for its proficient interaction with humans through natural language (i.e., without using computer language). As a core principle, it is essential to comprehend that GenAl neither \"thinks\" nor \"reads\", \"writes\" or \"draws\". GenAl has no notion of the intrinsic \"meaning\" of what it produces, it operates on language through computational and statistical methods.',\n",
              "  'sourcepage': 'Research and policy note on GenAI for customs-1.pdf',\n",
              "  '@search.score': 0.88402885,\n",
              "  '@search.reranker_score': None,\n",
              "  '@search.highlights': None,\n",
              "  '@search.captions': None},\n",
              " {'content': '\\nOwing to its capacity to generate text, images, video, and audio in response to natural language prompts, GenAI holds potential implications for professions rooted in intellectual activities. This technology may lead to the transformation of existing jobs and the creation of new jobs, which is a trajectory historically observed for all emerging technologies5.\\nIt is therefore important for the Customs community to engage in the discussion on the future impact of GenAI in public administrations. The objective of this note is to furnish a fair perspective on GenAI as an emerging trend in technology, balancing its potential benefits, current specific risks and limits. This note therefore aims to foster informed discussions on GenAI within Customs administrations, the broader WCO community, and among the technical and financial partners of Customs authorities worldwide.\\n1 In 2023, the G7 countries launched the Hiroshima AI Process aimed at establishing global recommendations for trusted AI, but applied to so-called \"advanced\" AI (typically GenAI) (https://www.',\n",
              "  'sourcepage': 'Research and policy note on GenAI for customs-0.pdf',\n",
              "  '@search.score': 0.8687809,\n",
              "  '@search.reranker_score': None,\n",
              "  '@search.highlights': None,\n",
              "  '@search.captions': None},\n",
              " {'content': ' GenAl has no notion of the intrinsic \"meaning\" of what it produces, it operates on language through computational and statistical methods. GenAI is ultimately based on mathematical prediction of the word that follows to form texts. Nevertheless, it acquires de facto writing, synthesis and summarizing capabilities.\\n1.1. Core technical principles of GenAI\\nGenAI applied to text generation can better help to understand some principles. Large Language Models (LLM) actually form the core of the most publicized applications of GenAI, notably conversational agents such as ChatGPT. These new LLM applications are at the intersection of artificial intelligence, machine learning and natural language processing technologies.\\n6 The publication and seminar have been co-organized with the Fondation pour les Etudes et la Recherche sur le Développement International and its Institut des Hautes Etudes du Développement Durable. The working paper is available in French and English at https://ferdi.fr/publications/comment-pensera-l-etat- avec-chatgpt-les-douanes-comme-illustration-de-l-intelligence-artificielle-generative-dans-les-administrati',\n",
              "  'sourcepage': 'Research and policy note on GenAI for customs-1.pdf',\n",
              "  '@search.score': 0.8641819,\n",
              "  '@search.reranker_score': None,\n",
              "  '@search.highlights': None,\n",
              "  '@search.captions': None}]"
            ]
          },
          "execution_count": 19,
          "metadata": {},
          "output_type": "execute_result"
        }
      ],
      "source": [
        "# Pure Vector Search\n",
        "query = \"What is GenAI?\"  \n",
        "\n",
        "search_client = SearchClient(service_endpoint, index_name, credential=credential)\n",
        "\n",
        "# Embedding \"query\" before searching\n",
        "vector = Vector(value=generate_embeddings(query), k=3, fields=\"contentVector\")\n",
        "\n",
        "# Only search using vector content to query agaist \"contentVector\" field\n",
        "results = search_client.search(  \n",
        "    search_text=None,  \n",
        "    vectors=[vector],\n",
        "    select=[\"content\", \"sourcepage\"],\n",
        ")\n",
        "\n",
        "result_list = []\n",
        "for result in results:  \n",
        "    print_warning_message(f\"{result['sourcepage']}\", \"Source Page: \")\n",
        "    print_warning_message(f\"{result['@search.score']}\", \"Search Score: \")\n",
        "    print_warning_message(f\"{textwrap.shorten(result['content'], width=100, placeholder='...')}\\n\", \"Content: \")\n",
        "    result_list.append(result)\n",
        "\n",
        "print_success_message(\"\", \"-----AI Search JSON Output [Pure Vector Search]-----\")\n",
        "result_list"
      ]
    },
    {
      "cell_type": "code",
      "execution_count": 20,
      "metadata": {
        "gather": {
          "logged": 1716777232494
        }
      },
      "outputs": [
        {
          "name": "stdout",
          "output_type": "stream",
          "text": [
            "\u001b[1;33mSource Page: \u001b[0mResearch and policy note on GenAI for customs-1.pdf\n",
            "\u001b[1;33mSearch Score: \u001b[0m0.8466293\n",
            "\u001b[1;33mContent: \u001b[0mThe note is segmented into three main sections: - A succinct overview of the technological...\n",
            "\n",
            "\u001b[1;33mSource Page: \u001b[0mResearch and policy note on GenAI for customs-1.pdf\n",
            "\u001b[1;33mSearch Score: \u001b[0m0.83495545\n",
            "\u001b[1;33mContent: \u001b[0mGenAl has no notion of the intrinsic \"meaning\" of what it produces, it operates on language...\n",
            "\n",
            "\u001b[1;33mSource Page: \u001b[0mResearch and policy note on GenAI for customs-0.pdf\n",
            "\u001b[1;33mSearch Score: \u001b[0m0.83183044\n",
            "\u001b[1;33mContent: \u001b[0mOwing to its capacity to generate text, images, video, and audio in response to natural language...\n",
            "\n",
            "\u001b[1;32m-----AI Search JSON Output [Pure Vector Search]-----\u001b[0m\n"
          ]
        },
        {
          "data": {
            "text/plain": [
              "[{'content': '\\nThe note is segmented into three main sections:\\n- A succinct overview of the technological principles of GenAI and its limitations that affect its uses in Customs administrations.\\n- An exploration of the potential applications of GenAI within Customs, identifying both existing uses that can be borrowed from other sectors and potential near- future applications, subject to technological progression.\\n- A discussion on three strategic aspects for Customs related to GenAI integration: evolving dynamics of human-machine interaction owing to natural language usage, essential training modules for officials to maximize GenAI benefits while mitigating inherent risks, and the critical task of establishing a sovereign training corpus fitting with Customs needs.\\n1. GenAI at a glance\\nGenAI is recognized for its proficient interaction with humans through natural language (i.e., without using computer language). As a core principle, it is essential to comprehend that GenAl neither \"thinks\" nor \"reads\", \"writes\" or \"draws\". GenAl has no notion of the intrinsic \"meaning\" of what it produces, it operates on language through computational and statistical methods.',\n",
              "  'sourcepage': 'Research and policy note on GenAI for customs-1.pdf',\n",
              "  '@search.score': 0.8466293,\n",
              "  '@search.reranker_score': None,\n",
              "  '@search.highlights': None,\n",
              "  '@search.captions': None},\n",
              " {'content': ' GenAl has no notion of the intrinsic \"meaning\" of what it produces, it operates on language through computational and statistical methods. GenAI is ultimately based on mathematical prediction of the word that follows to form texts. Nevertheless, it acquires de facto writing, synthesis and summarizing capabilities.\\n1.1. Core technical principles of GenAI\\nGenAI applied to text generation can better help to understand some principles. Large Language Models (LLM) actually form the core of the most publicized applications of GenAI, notably conversational agents such as ChatGPT. These new LLM applications are at the intersection of artificial intelligence, machine learning and natural language processing technologies.\\n6 The publication and seminar have been co-organized with the Fondation pour les Etudes et la Recherche sur le Développement International and its Institut des Hautes Etudes du Développement Durable. The working paper is available in French and English at https://ferdi.fr/publications/comment-pensera-l-etat- avec-chatgpt-les-douanes-comme-illustration-de-l-intelligence-artificielle-generative-dans-les-administrati',\n",
              "  'sourcepage': 'Research and policy note on GenAI for customs-1.pdf',\n",
              "  '@search.score': 0.83495545,\n",
              "  '@search.reranker_score': None,\n",
              "  '@search.highlights': None,\n",
              "  '@search.captions': None},\n",
              " {'content': '\\nOwing to its capacity to generate text, images, video, and audio in response to natural language prompts, GenAI holds potential implications for professions rooted in intellectual activities. This technology may lead to the transformation of existing jobs and the creation of new jobs, which is a trajectory historically observed for all emerging technologies5.\\nIt is therefore important for the Customs community to engage in the discussion on the future impact of GenAI in public administrations. The objective of this note is to furnish a fair perspective on GenAI as an emerging trend in technology, balancing its potential benefits, current specific risks and limits. This note therefore aims to foster informed discussions on GenAI within Customs administrations, the broader WCO community, and among the technical and financial partners of Customs authorities worldwide.\\n1 In 2023, the G7 countries launched the Hiroshima AI Process aimed at establishing global recommendations for trusted AI, but applied to so-called \"advanced\" AI (typically GenAI) (https://www.',\n",
              "  'sourcepage': 'Research and policy note on GenAI for customs-0.pdf',\n",
              "  '@search.score': 0.83183044,\n",
              "  '@search.reranker_score': None,\n",
              "  '@search.highlights': None,\n",
              "  '@search.captions': None}]"
            ]
          },
          "execution_count": 20,
          "metadata": {},
          "output_type": "execute_result"
        }
      ],
      "source": [
        "# Pure Vector Search multi-lingual \n",
        "query = \"GenAI คืออะไร\"  \n",
        "  \n",
        "search_client = SearchClient(service_endpoint, index_name, credential=credential)  \n",
        "\n",
        "vector = Vector(value=generate_embeddings(query), k=3, fields=\"contentVector\")\n",
        "\n",
        "results = search_client.search(  \n",
        "    search_text=None,  \n",
        "    vectors=[vector],\n",
        "    select=[\"content\", \"sourcepage\"],\n",
        ")  \n",
        "\n",
        "result_list = []\n",
        "for result in results:  \n",
        "    print_warning_message(f\"{result['sourcepage']}\", \"Source Page: \")\n",
        "    print_warning_message(f\"{result['@search.score']}\", \"Search Score: \")\n",
        "    print_warning_message(f\"{textwrap.shorten(result['content'], width=100, placeholder='...')}\\n\", \"Content: \")\n",
        "    result_list.append(result)\n",
        "    \n",
        "\n",
        "print_success_message(\"\", \"-----AI Search JSON Output [Pure Vector Search]-----\")\n",
        "result_list"
      ]
    },
    {
      "attachments": {},
      "cell_type": "markdown",
      "metadata": {},
      "source": [
        "## Perform a Hybrid Search"
      ]
    },
    {
      "cell_type": "code",
      "execution_count": 21,
      "metadata": {
        "gather": {
          "logged": 1716807530885
        }
      },
      "outputs": [
        {
          "name": "stdout",
          "output_type": "stream",
          "text": [
            "\u001b[1;33mSource Page: \u001b[0mResearch and policy note on GenAI for customs-0.pdf\n",
            "\u001b[1;33mSearch Score: \u001b[0m0.032786883413791656\n",
            "\u001b[1;33mContent: \u001b[0mOwing to its capacity to generate text, images, video, and audio in response to natural language...\n",
            "\n",
            "\u001b[1;33mSource Page: \u001b[0mResearch and policy note on GenAI for customs-1.pdf\n",
            "\u001b[1;33mSearch Score: \u001b[0m0.03181818127632141\n",
            "\u001b[1;33mContent: \u001b[0mThe note is segmented into three main sections: - A succinct overview of the technological...\n",
            "\n",
            "\u001b[1;33mSource Page: \u001b[0mResearch and policy note on GenAI for customs-1.pdf\n",
            "\u001b[1;33mSearch Score: \u001b[0m0.03151364624500275\n",
            "\u001b[1;33mContent: \u001b[0mGenAl has no notion of the intrinsic \"meaning\" of what it produces, it operates on language...\n",
            "\n",
            "\u001b[1;32m-----AI Search JSON Output [Hybrid Search]-----\u001b[0m\n"
          ]
        },
        {
          "data": {
            "text/plain": [
              "[{'content': '\\nOwing to its capacity to generate text, images, video, and audio in response to natural language prompts, GenAI holds potential implications for professions rooted in intellectual activities. This technology may lead to the transformation of existing jobs and the creation of new jobs, which is a trajectory historically observed for all emerging technologies5.\\nIt is therefore important for the Customs community to engage in the discussion on the future impact of GenAI in public administrations. The objective of this note is to furnish a fair perspective on GenAI as an emerging trend in technology, balancing its potential benefits, current specific risks and limits. This note therefore aims to foster informed discussions on GenAI within Customs administrations, the broader WCO community, and among the technical and financial partners of Customs authorities worldwide.\\n1 In 2023, the G7 countries launched the Hiroshima AI Process aimed at establishing global recommendations for trusted AI, but applied to so-called \"advanced\" AI (typically GenAI) (https://www.',\n",
              "  'sourcepage': 'Research and policy note on GenAI for customs-0.pdf',\n",
              "  '@search.score': 0.032786883413791656,\n",
              "  '@search.reranker_score': None,\n",
              "  '@search.highlights': None,\n",
              "  '@search.captions': None},\n",
              " {'content': '\\nThe note is segmented into three main sections:\\n- A succinct overview of the technological principles of GenAI and its limitations that affect its uses in Customs administrations.\\n- An exploration of the potential applications of GenAI within Customs, identifying both existing uses that can be borrowed from other sectors and potential near- future applications, subject to technological progression.\\n- A discussion on three strategic aspects for Customs related to GenAI integration: evolving dynamics of human-machine interaction owing to natural language usage, essential training modules for officials to maximize GenAI benefits while mitigating inherent risks, and the critical task of establishing a sovereign training corpus fitting with Customs needs.\\n1. GenAI at a glance\\nGenAI is recognized for its proficient interaction with humans through natural language (i.e., without using computer language). As a core principle, it is essential to comprehend that GenAl neither \"thinks\" nor \"reads\", \"writes\" or \"draws\". GenAl has no notion of the intrinsic \"meaning\" of what it produces, it operates on language through computational and statistical methods.',\n",
              "  'sourcepage': 'Research and policy note on GenAI for customs-1.pdf',\n",
              "  '@search.score': 0.03181818127632141,\n",
              "  '@search.reranker_score': None,\n",
              "  '@search.highlights': None,\n",
              "  '@search.captions': None},\n",
              " {'content': ' GenAl has no notion of the intrinsic \"meaning\" of what it produces, it operates on language through computational and statistical methods. GenAI is ultimately based on mathematical prediction of the word that follows to form texts. Nevertheless, it acquires de facto writing, synthesis and summarizing capabilities.\\n1.1. Core technical principles of GenAI\\nGenAI applied to text generation can better help to understand some principles. Large Language Models (LLM) actually form the core of the most publicized applications of GenAI, notably conversational agents such as ChatGPT. These new LLM applications are at the intersection of artificial intelligence, machine learning and natural language processing technologies.\\n6 The publication and seminar have been co-organized with the Fondation pour les Etudes et la Recherche sur le Développement International and its Institut des Hautes Etudes du Développement Durable. The working paper is available in French and English at https://ferdi.fr/publications/comment-pensera-l-etat- avec-chatgpt-les-douanes-comme-illustration-de-l-intelligence-artificielle-generative-dans-les-administrati',\n",
              "  'sourcepage': 'Research and policy note on GenAI for customs-1.pdf',\n",
              "  '@search.score': 0.03151364624500275,\n",
              "  '@search.reranker_score': None,\n",
              "  '@search.highlights': None,\n",
              "  '@search.captions': None}]"
            ]
          },
          "execution_count": 21,
          "metadata": {},
          "output_type": "execute_result"
        }
      ],
      "source": [
        "# Hybrid Search\n",
        "query = \"What is GenAI?\"  \n",
        "  \n",
        "search_client = SearchClient(service_endpoint, index_name, credential=credential)  \n",
        "\n",
        "# Embedding \"query\" before searching\n",
        "vector = Vector(value=generate_embeddings(query), k=3, fields=\"contentVector\")\n",
        "\n",
        "# Search using as it \"query\" as a semantic search together with vector query\n",
        "results = search_client.search(  \n",
        "    search_text=query,  \n",
        "    vectors=[vector],\n",
        "    select=[\"content\", \"sourcepage\"],\n",
        "    top=3\n",
        ")  \n",
        "\n",
        "result_list = []\n",
        "for result in results:  \n",
        "    print_warning_message(f\"{result['sourcepage']}\", \"Source Page: \")\n",
        "    print_warning_message(f\"{result['@search.score']}\", \"Search Score: \")\n",
        "    print_warning_message(f\"{textwrap.shorten(result['content'], width=100, placeholder='...')}\\n\", \"Content: \")\n",
        "    result_list.append(result)\n",
        "\n",
        "print_success_message(\"\", \"-----AI Search JSON Output [Hybrid Search]-----\")\n",
        "result_list"
      ]
    },
    {
      "attachments": {},
      "cell_type": "markdown",
      "metadata": {},
      "source": [
        "## Perform a Semantic Hybrid Search"
      ]
    },
    {
      "cell_type": "code",
      "execution_count": 23,
      "metadata": {
        "gather": {
          "logged": 1716807484505
        }
      },
      "outputs": [
        {
          "name": "stdout",
          "output_type": "stream",
          "text": [
            "\u001b[1;33mSource Page: \u001b[0mA survey of GenAI applications-0.pdf\n",
            "\u001b[1;33mSearch Score: \u001b[0m0.013333333656191826\n",
            "\u001b[1;33mContent: \u001b[0m1 Introduction The emergence of groundbreaking generative AI models, such as ChatGPT [229] and...\n",
            "\u001b[1;33mReranker Score: \u001b[0m3.3481924533843994\n",
            "\u001b[1;33mCaption: \u001b[0m<em>Generative AI</em> refers to artificial intelligence that can generate novel content, rather than simply analyzing or acting on existing data like expert systems [219]<em> Generative AI</em> models, equipped with vast data sets and intricate designs, have the extraordinary capability to create new and diverse content They can process and learn from information g...\n",
            "\n",
            "\u001b[1;33mSource Page: \u001b[0mResearch and policy note on GenAI for customs-1.pdf\n",
            "\u001b[1;33mSearch Score: \u001b[0m0.03181818127632141\n",
            "\u001b[1;33mContent: \u001b[0mThe note is segmented into three main sections: - A succinct overview of the technological...\n",
            "\u001b[1;33mReranker Score: \u001b[0m3.339001178741455\n",
            "\u001b[1;33mCaption: \u001b[0m<em>GenAI</em> at a glance<em> GenAI</em> is recognized for its proficient interaction with humans through natural language (i.e., without using computer language) As a core principle, it is essential to comprehend that<em> GenAl</em> neither \"thinks\" nor \"reads\", \"writes\" or \"draws\"<em> GenAl</em> has no notion of the intrinsic \"meaning\" of what it produces, it operates on language ...\n",
            "\n",
            "\u001b[1;33mSource Page: \u001b[0mResearch and policy note on GenAI for customs-0.pdf\n",
            "\u001b[1;33mSearch Score: \u001b[0m0.032786883413791656\n",
            "\u001b[1;33mContent: \u001b[0mOwing to its capacity to generate text, images, video, and audio in response to natural language...\n",
            "\u001b[1;33mReranker Score: \u001b[0m3.207261085510254\n",
            "\u001b[1;33mCaption: \u001b[0mOwing to its capacity to generate text, images, video, and audio in response to natural language prompts,<em> GenAI</em> holds potential implications for professions rooted in intellectual activities This technology may lead to the transformation of existing jobs and the creation of new jobs, which is a trajectory historically observed for all emerging tech...\n",
            "\n",
            "\u001b[1;33mSemantic Answer: \u001b[0mGenerative AI refers to<em> artificial intelligence that can generate novel content, rather</em> than<em> simply analyzing or acting on existing data</em> like expert systems [219] Generative AI models, equipped with vast data sets and intricate designs, have the extraordinary capability to create new and diverse content They can process and learn from information g...\n",
            "\u001b[1;33mSemantic Answer Score: \u001b[0m0.77197265625\n",
            "\n",
            "\u001b[1;32m-----AI Search JSON Output [Semantic Hybrid Search with reranking]-----\u001b[0m\n"
          ]
        },
        {
          "data": {
            "text/plain": [
              "[{'content': '\\n1 Introduction\\nThe emergence of groundbreaking generative AI models, such as ChatGPT [229] and DALL-E [247], has catalyzed a new era in the synthesis and manipulation of digital content. Concretely, these powerful machine learning algorithms have demonstrated unprecedented capabilities in synthesizing realistic images, audio, text, and other data modalities [153]. In particular, these state-of-the-art lan- guage and image generation models, leveraging the prowess of deep learning and transformer architectures, have enabled the generation of a vast array of fields.\\nGenerative AI refers to artificial intelligence that can generate novel content, rather than simply analyzing or acting on existing data like expert systems [219]. Generative AI models, equipped with vast data sets and intricate designs, have the extraordinary capability to create new and diverse content. They can process and learn from information gathered from a multitude of sources, such as Wikipedia [262], Github [94] and others.',\n",
              "  'sourcepage': 'A survey of GenAI applications-0.pdf',\n",
              "  '@search.score': 0.013333333656191826,\n",
              "  '@search.reranker_score': 3.3481924533843994,\n",
              "  '@search.highlights': None,\n",
              "  '@search.captions': [<azure.search.documents._generated.models._models_py3.CaptionResult at 0x2193fcc21f0>]},\n",
              " {'content': '\\nThe note is segmented into three main sections:\\n- A succinct overview of the technological principles of GenAI and its limitations that affect its uses in Customs administrations.\\n- An exploration of the potential applications of GenAI within Customs, identifying both existing uses that can be borrowed from other sectors and potential near- future applications, subject to technological progression.\\n- A discussion on three strategic aspects for Customs related to GenAI integration: evolving dynamics of human-machine interaction owing to natural language usage, essential training modules for officials to maximize GenAI benefits while mitigating inherent risks, and the critical task of establishing a sovereign training corpus fitting with Customs needs.\\n1. GenAI at a glance\\nGenAI is recognized for its proficient interaction with humans through natural language (i.e., without using computer language). As a core principle, it is essential to comprehend that GenAl neither \"thinks\" nor \"reads\", \"writes\" or \"draws\". GenAl has no notion of the intrinsic \"meaning\" of what it produces, it operates on language through computational and statistical methods.',\n",
              "  'sourcepage': 'Research and policy note on GenAI for customs-1.pdf',\n",
              "  '@search.score': 0.03181818127632141,\n",
              "  '@search.reranker_score': 3.339001178741455,\n",
              "  '@search.highlights': None,\n",
              "  '@search.captions': [<azure.search.documents._generated.models._models_py3.CaptionResult at 0x2193fcc2280>]},\n",
              " {'content': '\\nOwing to its capacity to generate text, images, video, and audio in response to natural language prompts, GenAI holds potential implications for professions rooted in intellectual activities. This technology may lead to the transformation of existing jobs and the creation of new jobs, which is a trajectory historically observed for all emerging technologies5.\\nIt is therefore important for the Customs community to engage in the discussion on the future impact of GenAI in public administrations. The objective of this note is to furnish a fair perspective on GenAI as an emerging trend in technology, balancing its potential benefits, current specific risks and limits. This note therefore aims to foster informed discussions on GenAI within Customs administrations, the broader WCO community, and among the technical and financial partners of Customs authorities worldwide.\\n1 In 2023, the G7 countries launched the Hiroshima AI Process aimed at establishing global recommendations for trusted AI, but applied to so-called \"advanced\" AI (typically GenAI) (https://www.',\n",
              "  'sourcepage': 'Research and policy note on GenAI for customs-0.pdf',\n",
              "  '@search.score': 0.032786883413791656,\n",
              "  '@search.reranker_score': 3.207261085510254,\n",
              "  '@search.highlights': None,\n",
              "  '@search.captions': [<azure.search.documents._generated.models._models_py3.CaptionResult at 0x2193fcc2310>]}]"
            ]
          },
          "execution_count": 23,
          "metadata": {},
          "output_type": "execute_result"
        }
      ],
      "source": [
        "# Semantic Hybrid Search\n",
        "query = \"what is genai?\"\n",
        "\n",
        "search_client = SearchClient(\n",
        "    service_endpoint, index_name, credential=credential)\n",
        "vector = Vector(value=generate_embeddings(query), k=3, fields=\"contentVector\")\n",
        "\n",
        "results = search_client.search(\n",
        "    search_text=query,\n",
        "    vectors=[vector],\n",
        "    select=[\"content\", \"sourcepage\"],\n",
        "    query_type=\"semantic\", query_language=\"en-us\", semantic_configuration_name='my-semantic-config', query_caption=\"extractive\", query_answer=\"extractive\",\n",
        "    top=3\n",
        ")\n",
        "\n",
        "result_list = []\n",
        "# Retrieve top k relevance chunked document from Azure AI Search\n",
        "for result in results:\n",
        "    print_warning_message(f\"{result['sourcepage']}\", \"Source Page: \")\n",
        "    print_warning_message(f\"{result['@search.score']}\", \"Search Score: \")\n",
        "    print_warning_message(f\"{textwrap.shorten(result['content'], width=100, placeholder='...')}\", \"Content: \")\n",
        "    print_warning_message(f\"{result['@search.reranker_score']}\", \"Reranker Score: \")\n",
        "    result_list.append(result)\n",
        "\n",
        "    captions = result[\"@search.captions\"]\n",
        "    if captions:\n",
        "        caption = captions[0]\n",
        "        if caption.highlights:\n",
        "            print_warning_message(f\"{caption.highlights}\\n\", \"Caption: \")\n",
        "        else:\n",
        "            print_warning_message(f\"{caption.text}\\n\", \"Caption: \")\n",
        "\n",
        "# Generate semantic answers based on top k relevance chunked documents\n",
        "semantic_answers = results.get_answers()\n",
        "for answer in semantic_answers:\n",
        "    if answer.highlights:\n",
        "        print_warning_message(f\"{answer.highlights}\", \"Semantic Answer: \")\n",
        "    else:\n",
        "        print_warning_message(f\"{answer.text}\", \"Semantic Answer: \")\n",
        "    print_warning_message(f\"{answer.score}\\n\", \"Semantic Answer Score: \")\n",
        "\n",
        "print_success_message(\"\", \"-----AI Search JSON Output [Semantic Hybrid Search with reranking]-----\")\n",
        "result_list"
      ]
    },
    {
      "cell_type": "markdown",
      "metadata": {
        "nteract": {
          "transient": {
            "deleting": false
          }
        }
      },
      "source": [
        "## Define system prompt for large language model\n",
        "\n",
        "In the context of Azure OpenAI, the roles of the system, user, and assistant are crucial for the effective functioning of the AI models, particularly in chat-based interactions. Here’s a breakdown of each role and the importance of the system message:\n",
        "\n",
        "**System:** This is a predefined message that sets the stage for the AI’s behavior. It primes the model with context, instructions, or other relevant information for the specific use case. The system message can describe the assistant’s personality, outline what the model should and shouldn’t answer, and define the format of the model’s responses. It’s a critical component because it helps ensure that the AI operates within the desired parameters and provides responses that are aligned with the user’s expectations.\n",
        "\n",
        "**User:** The user interacts with the AI model by providing input or asking questions. The user’s messages are the prompts that the AI responds to. The quality and clarity of the user’s input can significantly influence the accuracy and relevance of the AI’s responses.\n",
        "\n",
        "**Assistant:** The assistant is the AI itself, which processes the user’s input and the context provided by the system message to generate helpful, accurate, and contextually appropriate responses. The assistant’s role is to assist users by providing information, answering questions, and engaging in conversation within the guidelines set by the system message.\n",
        "\n",
        "The importance of the system message lies in its ability to guide the AI system’s behavior and improve its performance. It defines the AI’s capabilities and limitations, the expected output format, and additional safety and behavioral guardrails. By crafting an effective system message, developers can increase the accuracy and grounding of the responses generated by the AI, making it a more reliable and efficient tool for users."
      ]
    },
    {
      "cell_type": "code",
      "execution_count": 24,
      "metadata": {
        "gather": {
          "logged": 1716807539497
        },
        "jupyter": {
          "outputs_hidden": false,
          "source_hidden": false
        },
        "nteract": {
          "transient": {
            "deleting": false
          }
        }
      },
      "outputs": [
        {
          "name": "stdout",
          "output_type": "stream",
          "text": [
            "\n",
            "## On your role\n",
            "- You're an AI assistance to help answer questions based on retrieved documents.\n",
            "## Retrieved documents\n",
            "sourcepage: A survey of GenAI applications-0.pdf, content: \n",
            "1 Introduction\n",
            "The emergence of groundbreaking generative AI models, such as ChatGPT [229] and DALL-E [247], has catalyzed a new era in the synthesis and manipulation of digital content. Concretely, these powerful machine learning algorithms have demonstrated unprecedented capabilities in synthesizing realistic images, audio, text, and other data modalities [153]. In particular, these state-of-the-art lan- guage and image generation models, leveraging the prowess of deep learning and transformer architectures, have enabled the generation of a vast array of fields.\n",
            "Generative AI refers to artificial intelligence that can generate novel content, rather than simply analyzing or acting on existing data like expert systems [219]. Generative AI models, equipped with vast data sets and intricate designs, have the extraordinary capability to create new and diverse content. They can process and learn from information gathered from a multitude of sources, such as Wikipedia [262], Github [94] and others.\n",
            "sourcepage: Research and policy note on GenAI for customs-1.pdf, content: \n",
            "The note is segmented into three main sections:\n",
            "- A succinct overview of the technological principles of GenAI and its limitations that affect its uses in Customs administrations.\n",
            "- An exploration of the potential applications of GenAI within Customs, identifying both existing uses that can be borrowed from other sectors and potential near- future applications, subject to technological progression.\n",
            "- A discussion on three strategic aspects for Customs related to GenAI integration: evolving dynamics of human-machine interaction owing to natural language usage, essential training modules for officials to maximize GenAI benefits while mitigating inherent risks, and the critical task of establishing a sovereign training corpus fitting with Customs needs.\n",
            "1. GenAI at a glance\n",
            "GenAI is recognized for its proficient interaction with humans through natural language (i.e., without using computer language). As a core principle, it is essential to comprehend that GenAl neither \"thinks\" nor \"reads\", \"writes\" or \"draws\". GenAl has no notion of the intrinsic \"meaning\" of what it produces, it operates on language through computational and statistical methods.\n",
            "sourcepage: Research and policy note on GenAI for customs-0.pdf, content: \n",
            "Owing to its capacity to generate text, images, video, and audio in response to natural language prompts, GenAI holds potential implications for professions rooted in intellectual activities. This technology may lead to the transformation of existing jobs and the creation of new jobs, which is a trajectory historically observed for all emerging technologies5.\n",
            "It is therefore important for the Customs community to engage in the discussion on the future impact of GenAI in public administrations. The objective of this note is to furnish a fair perspective on GenAI as an emerging trend in technology, balancing its potential benefits, current specific risks and limits. This note therefore aims to foster informed discussions on GenAI within Customs administrations, the broader WCO community, and among the technical and financial partners of Customs authorities worldwide.\n",
            "1 In 2023, the G7 countries launched the Hiroshima AI Process aimed at establishing global recommendations for trusted AI, but applied to so-called \"advanced\" AI (typically GenAI) (https://www.\n",
            "\n"
          ]
        }
      ],
      "source": [
        "system_prompt = f\"\"\"\n",
        "## On your role\n",
        "- You're an AI assistance to help answer questions based on retrieved documents.\n",
        "## Retrieved documents\n",
        "\"\"\" + format_retrieved_documents(result_list)\n",
        "\n",
        "print(system_prompt)"
      ]
    },
    {
      "cell_type": "markdown",
      "metadata": {
        "nteract": {
          "transient": {
            "deleting": false
          }
        }
      },
      "source": [
        "## Call Azure OpenAI API to generate the answer based retrieved documents"
      ]
    },
    {
      "cell_type": "code",
      "execution_count": 25,
      "metadata": {
        "gather": {
          "logged": 1716808000088
        },
        "jupyter": {
          "outputs_hidden": false,
          "source_hidden": false
        },
        "nteract": {
          "transient": {
            "deleting": false
          }
        }
      },
      "outputs": [
        {
          "name": "stdout",
          "output_type": "stream",
          "text": [
            "Generating answer using GenAI_GPT4o LLM model\n",
            "assistant: Generative AI (GenAI) refers to artificial intelligence systems that are capable of generating novel content, instead of merely analyzing or acting upon existing data. These models can synthesize realistic images, audio, text, and other data modalities. Leveraging large datasets and complex deep learning architectures, such as transformer models, GenAI can create new and diverse content autonomously.\n",
            "\n",
            "Some key points about GenAI include:\n",
            "\n",
            "1. **Novel Content Creation**: GenAI systems can generate text, images, videos, and audio based on the data they have been trained on, as opposed to simply processing or analyzing existing data.\n",
            "2. **Interaction**: These models are adept at interacting with humans through natural language, meaning users can interact with them using everyday language rather than specialized computer languages.\n",
            "3. **Applications**: The capabilities of GenAI have implications for various fields including, but not limited to, digital content creation, intellectual activities, and professional tasks.\n",
            "4. **Technological Foundation**: GenAI relies heavily on advanced machine learning algorithms, particularly deep learning and transformer architectures, which have shown great efficacy in generating realistic and contextually relevant content.\n",
            "5. **Limitations**: Despite its impressive capabilities, GenAI operates purely on computational and statistical methods and does not possess an understanding of the intrinsic meaning of the content it produces.\n",
            "\n",
            "GenAI technologies, like ChatGPT for text generation and DALL-E for image synthesis, exemplify the potential of this field, heralding transformative impacts across numerous sectors.\n"
          ]
        }
      ],
      "source": [
        "# Define messages format to interact with LLM model\n",
        "messages = [\n",
        "    {\"role\": \"system\", \"content\": system_prompt},\n",
        "    {\"role\": \"user\", \"content\": query}\n",
        "]\n",
        "\n",
        "# GPT Model Option: gpt35turbo_model, gpt4turbo_model and gpt4o_model\n",
        "response = get_chat_completion(messages, gpt4o_model)\n",
        "print(\"assistant: \"+response)"
      ]
    }
  ],
  "metadata": {
    "kernel_info": {
      "name": "python310-sdkv2"
    },
    "kernelspec": {
      "display_name": "Python 3",
      "language": "python",
      "name": "python3"
    },
    "language_info": {
      "codemirror_mode": {
        "name": "ipython",
        "version": 3
      },
      "file_extension": ".py",
      "mimetype": "text/x-python",
      "name": "python",
      "nbconvert_exporter": "python",
      "pygments_lexer": "ipython3",
      "version": "3.12.3"
    },
    "microsoft": {
      "host": {
        "AzureML": {
          "notebookHasBeenCompleted": true
        }
      },
      "ms_spell_check": {
        "ms_spell_check_language": "en"
      }
    },
    "nteract": {
      "version": "nteract-front-end@1.0.0"
    },
    "orig_nbformat": 4
  },
  "nbformat": 4,
  "nbformat_minor": 2
}
